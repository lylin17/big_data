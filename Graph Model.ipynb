{
 "cells": [
  {
   "cell_type": "code",
   "execution_count": 1,
   "metadata": {
    "collapsed": true
   },
   "outputs": [],
   "source": [
    "#read csv file containing processed data (csv file uploaded into databricks as data.csv)\n",
    "df = spark.read.csv(\"/FileStore/tables/data.csv\",header=True,inferSchema = True)\n",
    "df.show(5)"
   ]
  },
  {
   "cell_type": "code",
   "execution_count": 2,
   "metadata": {
    "collapsed": true
   },
   "outputs": [],
   "source": [
    "df.printSchema()"
   ]
  },
  {
   "cell_type": "code",
   "execution_count": 3,
   "metadata": {
    "collapsed": true
   },
   "outputs": [],
   "source": [
    "#Confine trip network to only high fare trips\n",
    "df_high = df.where(df.Fare == 2)\n",
    "df_high.count()"
   ]
  },
  {
   "cell_type": "code",
   "execution_count": 4,
   "metadata": {
    "collapsed": true
   },
   "outputs": [],
   "source": [
    "#Extract list of vertices from trip data\n",
    "df_high.createOrReplaceTempView(\"vertice1\")\n",
    "df1 = spark.sql(\"select distinct Pickup from vertice1\")\n",
    "df_high.createOrReplaceTempView(\"vertice2\")\n",
    "df2 = spark.sql(\"select distinct Dropoff from vertice2\")\n",
    "df3 = df1.unionAll(df2)\n",
    "df3.createOrReplaceTempView(\"check\")\n",
    "df4 = spark.sql(\"select distinct Pickup from check\")\n",
    "\n",
    "#Rename variables to required names by graphframes\n",
    "df_high = df_high.selectExpr(\"Pickup as src\",\"Dropoff as dst\")\n",
    "df5 = df4.selectExpr(\"Pickup as id\")"
   ]
  },
  {
   "cell_type": "code",
   "execution_count": 5,
   "metadata": {
    "collapsed": true
   },
   "outputs": [],
   "source": [
    "#create graph\n",
    "from graphframes import *\n",
    "g = GraphFrame(df5, df_high)"
   ]
  },
  {
   "cell_type": "code",
   "execution_count": 6,
   "metadata": {
    "collapsed": true
   },
   "outputs": [],
   "source": [
    "#Label propagation to identify strongly interconnected communities\n",
    "result = g.labelPropagation(maxIter=10)\n",
    "display(result.select(\"id\", \"label\"))"
   ]
  },
  {
   "cell_type": "code",
   "execution_count": 7,
   "metadata": {
    "collapsed": true
   },
   "outputs": [],
   "source": [
    "#read file with labels from each node from label propagation\n",
    "df10 = spark.read.csv(\"/FileStore/tables/labelHigh.csv\",header=True)\n",
    "df10.show(5)"
   ]
  },
  {
   "cell_type": "code",
   "execution_count": 8,
   "metadata": {
    "collapsed": true
   },
   "outputs": [],
   "source": [
    "df11 = df5.join(df10, df5.id == df10.id,\"inner\").drop(df10.id)\n",
    "df11.show(5)"
   ]
  },
  {
   "cell_type": "code",
   "execution_count": 9,
   "metadata": {
    "collapsed": true
   },
   "outputs": [],
   "source": [
    "#distribution of labels among locations\n",
    "df10.createOrReplaceTempView(\"label\")\n",
    "spark.sql(\"select label, count(*) from label group by label order by label\").show()"
   ]
  },
  {
   "cell_type": "code",
   "execution_count": 10,
   "metadata": {
    "collapsed": true
   },
   "outputs": [],
   "source": [
    "#Triangle count in community 0 for transitivity score\n",
    "from pyspark.sql.functions import *\n",
    "df11a = df11.where(df11.label == '0')\n",
    "g3 = GraphFrame(df11a,df_high)\n",
    "tri0 = g3.triangleCount()\n",
    "display(tri0.select(\"id\",\"count\").orderBy(desc(\"count\")))"
   ]
  },
  {
   "cell_type": "code",
   "execution_count": 11,
   "metadata": {
    "collapsed": true
   },
   "outputs": [],
   "source": [
    "#reverse pagerank in community 0\n",
    "from graphframes import *\n",
    "from pyspark.sql.functions import *\n",
    "\n",
    "df11a = df11.where(df11.label == '0')\n",
    "df7 = df_high.selectExpr(\"src as dst\",\"dst as src\")\n",
    "g3b = GraphFrame(df11a, df7)\n",
    "\n",
    "ranks0 = g3b.pageRank(resetProbability=0.15, maxIter=10)\n",
    "display(ranks0.vertices.select(\"id\",\"pagerank\").orderBy(desc(\"pagerank\")))"
   ]
  },
  {
   "cell_type": "code",
   "execution_count": 12,
   "metadata": {
    "collapsed": true
   },
   "outputs": [],
   "source": [
    "#Triangle count in community 1 for transitivity score\n",
    "df11b = df11.where(df11.label == '1')\n",
    "g4 = GraphFrame(df11b,df_high)\n",
    "tri1 = g4.triangleCount()\n",
    "display(tri1.select(\"id\",\"count\").orderBy(desc(\"count\")))"
   ]
  },
  {
   "cell_type": "code",
   "execution_count": 13,
   "metadata": {
    "collapsed": true
   },
   "outputs": [],
   "source": [
    "#reverse pagerank for community 1\n",
    "from graphframes import *\n",
    "from pyspark.sql.functions import *\n",
    "df11b = df11.where(df11.label == '1')\n",
    "df7 = df_high.selectExpr(\"src as dst\",\"dst as src\")\n",
    "g4b = GraphFrame(df11b, df7)\n",
    "\n",
    "ranks1 = g4b.pageRank(resetProbability=0.15, maxIter=10)\n",
    "display(ranks1.vertices.select(\"id\",\"pagerank\").orderBy(desc(\"pagerank\")))"
   ]
  },
  {
   "cell_type": "code",
   "execution_count": 14,
   "metadata": {
    "collapsed": true
   },
   "outputs": [],
   "source": [
    "#Triangle count in community 5 for transitivity score\n",
    "df11c = df11.where(df11.label == '5')\n",
    "g5 = GraphFrame(df11c,df_high)\n",
    "tri5 = g5.triangleCount()\n",
    "display(tri5.select(\"id\",\"count\").orderBy(desc(\"count\")))"
   ]
  },
  {
   "cell_type": "code",
   "execution_count": 15,
   "metadata": {
    "collapsed": true
   },
   "outputs": [],
   "source": [
    "#reverse pagerank for community 5\n",
    "from graphframes import *\n",
    "from pyspark.sql.functions import *\n",
    "df11c = df11.where(df11.label == '5')\n",
    "df7 = df_high.selectExpr(\"src as dst\",\"dst as src\")\n",
    "g5b = GraphFrame(df11c, df7)\n",
    "\n",
    "ranks1 = g5b.pageRank(resetProbability=0.15, maxIter=10)\n",
    "display(ranks1.vertices.select(\"id\",\"pagerank\").orderBy(desc(\"pagerank\")))"
   ]
  },
  {
   "cell_type": "code",
   "execution_count": 16,
   "metadata": {
    "collapsed": true
   },
   "outputs": [],
   "source": []
  }
 ],
 "metadata": {
  "kernelspec": {
   "display_name": "Python 3",
   "language": "python",
   "name": "python3"
  },
  "language_info": {
   "codemirror_mode": {
    "name": "ipython",
    "version": 3
   },
   "file_extension": ".py",
   "mimetype": "text/x-python",
   "name": "python",
   "nbconvert_exporter": "python",
   "pygments_lexer": "ipython3",
   "version": "3.6.1"
  },
  "name": "Graph Model",
  "notebookId": 1586077872099669
 },
 "nbformat": 4,
 "nbformat_minor": 1
}
