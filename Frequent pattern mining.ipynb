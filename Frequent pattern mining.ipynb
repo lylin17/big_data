{
 "cells": [
  {
   "cell_type": "code",
   "execution_count": null,
   "metadata": {
    "collapsed": true
   },
   "outputs": [],
   "source": [
    "from pyspark import SparkContext\n",
    "from pyspark.sql import SparkSession\n",
    "from pyspark.sql import SQLContext\n",
    "from pyspark.sql.functions import *\n",
    "from pyspark.sql.types import ArrayType, StringType\n",
    "from pyspark.ml.fpm import FPGrowth"
   ]
  },
  {
   "cell_type": "code",
   "execution_count": null,
   "metadata": {
    "collapsed": true
   },
   "outputs": [],
   "source": [
    "# data.csv uploaded as table named 'data' in databricks\n",
    "data = spark.sql('SELECT* FROM data')\n",
    "data.show(5)\n",
    "data.registerTempTable(\"data\")"
   ]
  },
  {
   "cell_type": "code",
   "execution_count": null,
   "metadata": {
    "collapsed": true
   },
   "outputs": [],
   "source": [
    "#concatenate prefix to variables to create unqiue itemsets\n",
    "data_str = sqlContext.sql(\"SELECT CONCAT ('M', Month) AS Month, CONCAT ('W', Weekday) AS Weekday, CONCAT ('T', Time_period) AS Time_period,CONCAT ('F', Fare) AS Fare, CONCAT ('P', Pickup) AS Pickup, CONCAT ('D', Dropoff) AS Dropoff FROM data\")\n",
    "data_str.show(5)\n",
    "data_str.registerTempTable(\"df\")"
   ]
  },
  {
   "cell_type": "code",
   "execution_count": null,
   "metadata": {
    "collapsed": true
   },
   "outputs": [],
   "source": [
    "# generate arraylist as required by FPGrowth of ml package\n",
    "df_concat = sqlContext.sql(\"SELECT CONCAT(Month, ','  ,Weekday, ','  ,Time_period, ',', Pickup, ',', Dropoff, ',', Fare) AS Features FROM df \")\n",
    "df_array = df_concat.withColumn(\n",
    "    \"items\", split(col(\"features\"), \",\\s*\").cast(ArrayType(StringType())).alias(\"items\"))\n",
    "df_array=df_array.select(\"items\")\n",
    "df_array.show(5, False)"
   ]
  },
  {
   "cell_type": "markdown",
   "metadata": {},
   "source": [
    "# Min Support = 0.001, Min Confidence = 0.6"
   ]
  },
  {
   "cell_type": "code",
   "execution_count": null,
   "metadata": {
    "collapsed": true
   },
   "outputs": [],
   "source": [
    "fp = FPGrowth(minSupport=0.001, minConfidence=0.6)\n",
    "fpm = fp.fit(df_array) "
   ]
  },
  {
   "cell_type": "code",
   "execution_count": null,
   "metadata": {
    "collapsed": true
   },
   "outputs": [],
   "source": [
    "#Frequent location Mining\n",
    "freq = fpm.freqItemsets\n",
    "freq.registerTempTable(\"df\")\n",
    "freq_result = sqlContext.sql(\"SELECT * FROM df ORDER BY freq DESC\")\n",
    "display(freq_result)"
   ]
  },
  {
   "cell_type": "code",
   "execution_count": null,
   "metadata": {
    "collapsed": true
   },
   "outputs": [],
   "source": [
    "#Association Rule mining\n",
    "rules = fpm.associationRules\n",
    "rules = rules.withColumn(\"consequent\", concat_ws(\"\",col(\"consequent\")))\n",
    "rules.show(5)\n",
    "rules.registerTempTable(\"df\")\n",
    "rules_result = sqlContext.sql(\"SELECT * FROM df WHERE consequent='F2' ORDER BY confidence DESC\")\n",
    "display(rules_result)"
   ]
  },
  {
   "cell_type": "markdown",
   "metadata": {},
   "source": [
    "# Association Rule without dominant locations"
   ]
  },
  {
   "cell_type": "markdown",
   "metadata": {},
   "source": [
    "# Min Support = 0.0005, Min Confidence = 0.6\n"
   ]
  },
  {
   "cell_type": "code",
   "execution_count": null,
   "metadata": {
    "collapsed": true
   },
   "outputs": [],
   "source": [
    "# Remove Ariports: O'Hare and Midway \n",
    "data_str.registerTempTable(\"df\")\n",
    "noap = sqlContext.sql(\"SELECT * FROM df WHERE Pickup NOT IN ('P225006','P433757','P575547','P230394') AND Dropoff NOT IN ('D225006','D433757','D575547','D230394')\")\n",
    "display(noap)\n",
    "noap.registerTempTable(\"df\")"
   ]
  },
  {
   "cell_type": "code",
   "execution_count": null,
   "metadata": {
    "collapsed": true
   },
   "outputs": [],
   "source": [
    "df_concat = sqlContext.sql(\"SELECT CONCAT(Month, ','  ,Weekday, ','  ,Time_period, ',', Pickup, ',', Dropoff, ',', Fare) AS Features FROM df \")\n",
    "df_concat.show(5, False)"
   ]
  },
  {
   "cell_type": "code",
   "execution_count": null,
   "metadata": {
    "collapsed": true
   },
   "outputs": [],
   "source": [
    "fp = FPGrowth(minSupport=0.0005, minConfidence=0.6)\n",
    "fpm = fp.fit(df_array) "
   ]
  },
  {
   "cell_type": "code",
   "execution_count": null,
   "metadata": {
    "collapsed": true
   },
   "outputs": [],
   "source": [
    "#Frequent location Mining\n",
    "freq = fpm.freqItemsets\n",
    "freq.registerTempTable(\"df\")\n",
    "freq_result = sqlContext.sql(\"SELECT * FROM df ORDER BY freq DESC\")"
   ]
  },
  {
   "cell_type": "code",
   "execution_count": null,
   "metadata": {
    "collapsed": true
   },
   "outputs": [],
   "source": [
    "#Association Rule mining\n",
    "rules = fpm.associationRules\n",
    "rules = rules.withColumn(\"consequent\", concat_ws(\"\",col(\"consequent\")))\n",
    "rules.show(5)\n",
    "rules.registerTempTable(\"df\")\n",
    "rules_result = sqlContext.sql(\"SELECT * FROM df WHERE consequent='F2' ORDER BY confidence DESC\")\n",
    "display(rules_result)"
   ]
  }
 ],
 "metadata": {
  "kernelspec": {
   "display_name": "Python 3",
   "language": "python",
   "name": "python3"
  },
  "language_info": {
   "codemirror_mode": {
    "name": "ipython",
    "version": 3
   },
   "file_extension": ".py",
   "mimetype": "text/x-python",
   "name": "python",
   "nbconvert_exporter": "python",
   "pygments_lexer": "ipython3",
   "version": "3.6.1"
  },
  "name": "original",
  "notebookId": 8
 },
 "nbformat": 4,
 "nbformat_minor": 1
}
